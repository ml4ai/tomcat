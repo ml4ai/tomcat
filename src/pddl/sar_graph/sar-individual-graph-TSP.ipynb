{
 "cells": [
  {
   "cell_type": "code",
   "execution_count": null,
   "metadata": {},
   "outputs": [],
   "source": [
    "import networkx as nx\n",
    "import json\n",
    "import matplotlib.pyplot as plt\n",
    "import numpy as np\n",
    "from mwmatching import maxWeightMatching"
   ]
  },
  {
   "cell_type": "code",
   "execution_count": null,
   "metadata": {},
   "outputs": [],
   "source": [
    "D = {} \n",
    "D[\"lobby\"] = {\n",
    "    \"mens\": {'weight': 1},\n",
    "    \"womens\": {'weight': 1},\n",
    "    \"e-1\": {'weight': 1},\n",
    "    \"e-2\": {'weight': 1},\n",
    "    \"main-intersection\": {'weight': 1},\n",
    "}\n",
    "\n",
    "D[\"main-intersection\"] = {\n",
    "    \"mid-left-bottom-hallway\": {'weight': 1},\n",
    "    \"lower-center-hallway\": {'weight': 1},\n",
    "    \"mid-right-bottom-hallway\": {'weight': 1},\n",
    "}\n",
    "\n",
    "D[\"mid-left-bottom-hallway\"] = {\n",
    "    \"r-j\": {'weight': 1},\n",
    "    \"far-left-bottom-hallway\": {'weight': 1}\n",
    "}\n",
    "\n",
    "D[\"far-left-bottom-hallway\"] = {\n",
    "    \"r-201\": {'weight': 1},\n",
    "    \"lower-left-hallway\": {'weight': 1}\n",
    "}\n",
    "\n",
    "D[\"lower-left-hallway\"] = {\n",
    "    \"r-203\": {'weight': 1},\n",
    "    \"upper-left-hallway\": {'weight': 1}\n",
    "}\n",
    "\n",
    "D[\"upper-left-hallway\"] = {\n",
    "    \"r-205\": {'weight': 1}\n",
    "}\n",
    "\n",
    "D[\"r-201\"] = {\n",
    "    \"r-203\": {'weight': 1},\n",
    "}\n",
    "\n",
    "D[\"r-203\"] = {\n",
    "    \"r-208-a\": {'weight': 1},\n",
    "}\n",
    "\n",
    "D[\"r-205\"] = {\n",
    "    \"r-207\": {'weight': 1},\n",
    "}\n",
    "\n",
    "D[\"r-207\"] = {\n",
    "    \"r-210\": {'weight': 1},\n",
    "}\n",
    "\n",
    "D[\"r-210\"] = {\n",
    "    \"upper-center-hallway\": {'weight': 1},\n",
    "}\n",
    "\n",
    "D[\"r-208-b\"] = {\n",
    "    \"upper-center-hallway\": {'weight': 1},\n",
    "    \"r-208-a\": {'weight': 1},\n",
    "}\n",
    "\n",
    "D[\"r-208-a\"] = {\n",
    "    \"lower-center-hallway\": {'weight': 1}\n",
    "}\n",
    "\n",
    "D[\"mid-right-bottom-hallway\"] = {\n",
    "    \"far-right-bottom-hallway\": {'weight': 1}\n",
    "}\n",
    "\n",
    "D[\"far-right-bottom-hallway\"] = {\n",
    "    \"lower-right-hallway\": {'weight': 1}\n",
    "}\n",
    "\n",
    "D[\"lower-right-hallway\"] = {\n",
    "    \"r-216-a\": {'weight': 1},\n",
    "    \"r-216-b\": {'weight': 1},\n",
    "    \"upper-right-hallway\": {'weight': 1}\n",
    "}\n",
    "\n",
    "D[\"upper-right-hallway\"] = {\n",
    "    \"r-218\": {'weight': 1},\n",
    "    \"r-220\": {'weight': 1}\n",
    "}\n",
    "\n",
    "D[\"r-220\"] = {\n",
    "    \"r-215\": {'weight': 1}\n",
    "}\n",
    "\n",
    "D[\"r-218\"] = {\n",
    "    \"r-213\": {'weight': 1}\n",
    "}\n",
    "\n",
    "D[\"r-216-b\"] = {\n",
    "    \"r-216-a\": {'weight': 1}\n",
    "}\n",
    "\n",
    "D[\"r-216-a\"] = {\n",
    "    \"r-209\": {'weight': 1}\n",
    "}\n",
    "\n",
    "D[\"r-209\"] = {\n",
    "    \"lower-center-hallway\": {'weight': 1}\n",
    "}\n",
    "\n",
    "D[\"r-211\"] = {\n",
    "    \"lower-center-hallway\": {'weight': 1},\n",
    "    \"r-213\": {'weight': 1}\n",
    "}\n",
    "\n",
    "D[\"r-215\"] = {\n",
    "    \"upper-center-hallway\": {'weight': 1}\n",
    "}\n",
    "\n",
    "D[\"lower-center-hallway\"] = {\n",
    "    \"upper-center-hallway\": {'weight': 1}\n",
    "}"
   ]
  },
  {
   "cell_type": "code",
   "execution_count": null,
   "metadata": {},
   "outputs": [],
   "source": [
    "G = nx.Graph(D)"
   ]
  },
  {
   "cell_type": "code",
   "execution_count": null,
   "metadata": {},
   "outputs": [],
   "source": [
    "H = nx.Graph()\n",
    "for i in G.nodes:\n",
    "    for j in G.nodes:\n",
    "        if i != j:\n",
    "            H.add_edge(i, j, weight=nx.shortest_path_length(G,i,j))"
   ]
  },
  {
   "cell_type": "code",
   "execution_count": null,
   "metadata": {},
   "outputs": [],
   "source": [
    "T = nx.minimum_spanning_tree(H)"
   ]
  },
  {
   "cell_type": "code",
   "execution_count": null,
   "metadata": {},
   "outputs": [],
   "source": [
    "O = []\n",
    "for i in nx.degree(T):\n",
    "    print(i)\n",
    "    if (i[1] % 2) != 0:\n",
    "        O.append(i[0])"
   ]
  },
  {
   "cell_type": "code",
   "execution_count": null,
   "metadata": {},
   "outputs": [],
   "source": [
    "SH = nx.subgraph(H,O)"
   ]
  },
  {
   "cell_type": "code",
   "execution_count": null,
   "metadata": {},
   "outputs": [],
   "source": [
    "SH_nodes_to_nums = {}\n",
    "for i,j in enumerate(SH):\n",
    "    SH_nodes_to_nums[j] = i\n",
    "    \n",
    "SH_nums_to_nodes = {}\n",
    "for i,j in enumerate(SH):\n",
    "    SH_nums_to_nodes[i] = j"
   ]
  },
  {
   "cell_type": "code",
   "execution_count": null,
   "metadata": {},
   "outputs": [],
   "source": [
    "SH_nums_to_nodes"
   ]
  },
  {
   "cell_type": "code",
   "execution_count": null,
   "metadata": {},
   "outputs": [],
   "source": [
    "SH_tuple_graph = []\n",
    "for i in nx.to_edgelist(SH):\n",
    "    SH_tuple_graph.append(\n",
    "        (SH_nodes_to_nums[i[0]],SH_nodes_to_nums[i[1]],-i[2]['weight'])\n",
    "    )"
   ]
  },
  {
   "cell_type": "code",
   "execution_count": null,
   "metadata": {},
   "outputs": [],
   "source": [
    "def pairNotIn(x,M):\n",
    "    if x in M or (x[1],x[0]) in M:\n",
    "        return False\n",
    "    return True"
   ]
  },
  {
   "cell_type": "code",
   "execution_count": null,
   "metadata": {},
   "outputs": [],
   "source": [
    "Y = []\n",
    "for i,j in enumerate(maxWeightMatching(SH_tuple_graph, maxcardinality=True)):\n",
    "    u = SH_nums_to_nodes[i]\n",
    "    v = SH_nums_to_nodes[j]\n",
    "    if pairNotIn((u,v),Y):\n",
    "        Y.append((u,v))"
   ]
  },
  {
   "cell_type": "code",
   "execution_count": null,
   "metadata": {},
   "outputs": [],
   "source": [
    "maxWeightMatching(SH_tuple_graph, maxcardinality=True)"
   ]
  },
  {
   "cell_type": "code",
   "execution_count": null,
   "metadata": {},
   "outputs": [],
   "source": [
    "M = []\n",
    "for i in Y:\n",
    "    M.append((i[0],i[1],{'weight': SH[i[0]][i[1]]['weight']}))"
   ]
  },
  {
   "cell_type": "code",
   "execution_count": null,
   "metadata": {},
   "outputs": [],
   "source": [
    "MT = nx.MultiGraph(M + list(nx.to_edgelist(T)))"
   ]
  },
  {
   "cell_type": "code",
   "execution_count": null,
   "metadata": {},
   "outputs": [],
   "source": [
    "E = nx.eulerian_circuit(MT,\"lobby\")"
   ]
  },
  {
   "cell_type": "code",
   "execution_count": null,
   "metadata": {},
   "outputs": [],
   "source": [
    "E = list(E)\n",
    "E"
   ]
  },
  {
   "cell_type": "code",
   "execution_count": null,
   "metadata": {},
   "outputs": [],
   "source": [
    "P = []\n",
    "for i in E:\n",
    "    if i[0] not in P:\n",
    "        P.append(i[0])\n",
    "    if i[1] not in P:\n",
    "        P.append(i[1])\n",
    "P.append(P[0])"
   ]
  },
  {
   "cell_type": "code",
   "execution_count": null,
   "metadata": {},
   "outputs": [],
   "source": [
    "P"
   ]
  }
 ],
 "metadata": {
  "kernelspec": {
   "display_name": "Python 3",
   "language": "python",
   "name": "python3"
  },
  "language_info": {
   "codemirror_mode": {
    "name": "ipython",
    "version": 3
   },
   "file_extension": ".py",
   "mimetype": "text/x-python",
   "name": "python",
   "nbconvert_exporter": "python",
   "pygments_lexer": "ipython3",
   "version": "3.8.1"
  }
 },
 "nbformat": 4,
 "nbformat_minor": 4
}
