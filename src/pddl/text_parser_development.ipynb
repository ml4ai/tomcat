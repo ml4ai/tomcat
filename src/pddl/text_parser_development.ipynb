{
 "cells": [
  {
   "cell_type": "code",
   "execution_count": null,
   "metadata": {},
   "outputs": [],
   "source": [
    "import json\n",
    "import re"
   ]
  },
  {
   "cell_type": "code",
   "execution_count": null,
   "metadata": {},
   "outputs": [],
   "source": [
    "TAG = 'Defining problem SAR-INDIVIDUAL-PROBLEM ...'\n",
    "\n",
    "tag_found = False\n",
    "remove_effect = False\n",
    "remove_task = False\n",
    "truncated_data = []\n",
    "p_plans = []\n",
    "state_str = \"\"\n",
    "with open('printout.txt') as in_file:\n",
    "    for line in in_file:\n",
    "        if not tag_found:\n",
    "            if line.strip() == TAG:\n",
    "                tag_found = True\n",
    "        elif line.strip()[0:7] == \"state (\":\n",
    "            if line.strip()[-2:] == \"))\":\n",
    "                truncated_data.append(line.strip())\n",
    "            else:\n",
    "                state_str = line.strip() + \" \"\n",
    "        elif state_str:\n",
    "            if line.strip()[-2:] == \"))\":\n",
    "                state_str = state_str + line.strip()\n",
    "                truncated_data.append(state_str)\n",
    "                state_str = \"\"\n",
    "            elif line.strip()[-1] == \"*\":\n",
    "                close_id = line.strip().index(\"Storing new plan in *plans-found*\")\n",
    "                state_str = state_str + line.strip()[0:close_id-1]\n",
    "                truncated_data.append(state_str)\n",
    "                state_str = \"\"\n",
    "                p_plans.append(truncated_data)\n",
    "                truncated_data = []\n",
    "            else:\n",
    "                state_str = state_str + line.strip() + \" \"\n",
    "        elif line.strip()[0:6] == \"task (\":\n",
    "            if line.strip()[-1] != \")\":\n",
    "                remove_task = True\n",
    "        elif line.strip()[0:8] == \"effect (\":\n",
    "            if line.strip()[8] == \"(\" or line.strip()[8:11] == \"AND\":\n",
    "                if line.strip()[-2:] != \"))\":\n",
    "                    remove_effect = True\n",
    "        elif remove_task:\n",
    "            if line.strip()[-1] == \")\":\n",
    "                remove_task = False\n",
    "        elif remove_effect:\n",
    "            if line.strip()[-2:] == \"))\":\n",
    "                remove_effect = False\n",
    "        elif line.strip()[0:5] == \"Depth\":\n",
    "            comma_id = line.strip().index(',')\n",
    "            truncated_data.append(line.strip()[0:comma_id])\n",
    "        elif line.strip()[0:4] == \"PDDL\":\n",
    "            close_id = line.strip().index(\")\")\n",
    "            truncated_data.append(line.strip()[5:close_id+1])\n",
    "        elif line.isspace():\n",
    "            continue\n",
    "        elif line.strip()[0] == \"*\":\n",
    "            continue\n",
    "        else:\n",
    "            truncated_data.append(line.strip())"
   ]
  },
  {
   "cell_type": "code",
   "execution_count": null,
   "metadata": {},
   "outputs": [],
   "source": [
    "def tokenize_state(state_str):\n",
    "    temp_str = state_str[7:-1].replace(\" \",\"_\")\n",
    "    temp_str = re.split(r'[()]', temp_str)\n",
    "    return [i for i in temp_str if (i != \"_\") and (i != \"\")]"
   ]
  },
  {
   "cell_type": "code",
   "execution_count": null,
   "metadata": {},
   "outputs": [],
   "source": [
    "def tokenize_action(action_str):\n",
    "    return action_str[8:-1].replace(\" \",\"_\")"
   ]
  },
  {
   "cell_type": "code",
   "execution_count": null,
   "metadata": {},
   "outputs": [],
   "source": [
    "initial_state = tokenize_state(p_plans[0][1])"
   ]
  },
  {
   "cell_type": "code",
   "execution_count": null,
   "metadata": {},
   "outputs": [],
   "source": [
    "del p_plans[0][1:-1:4]"
   ]
  },
  {
   "cell_type": "code",
   "execution_count": null,
   "metadata": {},
   "outputs": [],
   "source": [
    "for i in range(1,len(p_plans)):\n",
    "    p_plans[i] = p_plans[i][1:]\n",
    "    del p_plans[i][1:-1:4]"
   ]
  },
  {
   "cell_type": "code",
   "execution_count": null,
   "metadata": {},
   "outputs": [],
   "source": [
    "for i in range(1,len(p_plans)):\n",
    "    if p_plans[i][0] != p_plans[i - 1][0]:\n",
    "        match = p_plans[i][0]\n",
    "        match_list = []\n",
    "        for j in p_plans[i - 1]:\n",
    "            if j != match:\n",
    "                match_list.append(j)\n",
    "            else:\n",
    "                break\n",
    "        p_plans[i] = match_list + p_plans[i]\n",
    "            "
   ]
  },
  {
   "cell_type": "code",
   "execution_count": null,
   "metadata": {},
   "outputs": [],
   "source": [
    "plans = {\n",
    "    \"domain\":\"SAR(Individual)\",\n",
    "    \"description\":\"This is the search and rescue domain featuring a single rescuer\",\n",
    "    \"problem_def\": {\"initial_state\":initial_state, \"task\":\"enter-building-and-complete-mission_T1_B_R1\"},\n",
    "    \"plan_traces\": []\n",
    "}"
   ]
  },
  {
   "cell_type": "code",
   "execution_count": null,
   "metadata": {},
   "outputs": [],
   "source": [
    "def plan_list_to_dict(plan,initial_state,plan_id):\n",
    "    d_plan = {\"id\":plan_id, \"action_count\": len(plan[:-2])/3, \"state_0\":initial_state}\n",
    "    c = 0\n",
    "    for i in plan[:-1]:\n",
    "        if i[0:5] == \"Depth\":\n",
    "            c = c + 1\n",
    "        if i[0:6] == \"action\":\n",
    "            d_plan[f\"action_{c-1}\"] = tokenize_action(i)\n",
    "        if i[0:5] == \"state\":\n",
    "            d_plan[f\"state_{c}\"] = tokenize_state(i)\n",
    "    return d_plan"
   ]
  },
  {
   "cell_type": "code",
   "execution_count": null,
   "metadata": {},
   "outputs": [],
   "source": [
    "for i,p in enumerate(p_plans):\n",
    "    plans[\"plan_traces\"].append(plan_list_to_dict(p,plans[\"problem_def\"][\"initial_state\"],i))"
   ]
  },
  {
   "cell_type": "code",
   "execution_count": null,
   "metadata": {},
   "outputs": [],
   "source": [
    "with open('sar-individual-plan-traces.json','w') as json_file:\n",
    "    json.dump(plans,json_file,indent=4)"
   ]
  }
 ],
 "metadata": {
  "kernelspec": {
   "display_name": "Python 3",
   "language": "python",
   "name": "python3"
  },
  "language_info": {
   "codemirror_mode": {
    "name": "ipython",
    "version": 3
   },
   "file_extension": ".py",
   "mimetype": "text/x-python",
   "name": "python",
   "nbconvert_exporter": "python",
   "pygments_lexer": "ipython3",
   "version": "3.8.1"
  }
 },
 "nbformat": 4,
 "nbformat_minor": 4
}
