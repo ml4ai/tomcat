{
 "cells": [
  {
   "cell_type": "code",
   "execution_count": 1,
   "metadata": {},
   "outputs": [],
   "source": [
    "from nltk import PCFG, ProbabilisticProduction as pp, nonterminals, Nonterminal, Production, ProbabilisticMixIn\n",
    "from nltk.parse.generate import generate\n",
    "import itertools\n",
    "import sys\n",
    "import random"
   ]
  },
  {
   "cell_type": "code",
   "execution_count": 2,
   "metadata": {},
   "outputs": [],
   "source": [
    "prods = [\"P -> MONDAY [0.2] | TUESDAY [0.2] | WEDNESDAY [0.2] | THURSDAY [0.2] | FRIDAY [0.2]\", \n",
    "         \"MONDAY -> 'go-to-school' 'go-to-work' 'do-chores' 'do-homework' [0.125]\",\n",
    "         \"MONDAY -> 'go-to-school' 'stay-for-tutoring' 'do-chores' 'do-homework' [0.125]\",\n",
    "         \"MONDAY -> 'go-to-school' 'go-to-work' 'go-running' 'do-homework' [0.125]\",\n",
    "         \"MONDAY -> 'go-to-school' 'stay-for-tutoring' 'go-running' 'do-homework' [0.125]\",\n",
    "         \"MONDAY -> 'go-to-school' 'go-to-work' 'do-chores' 'play-videogames' [0.125]\",\n",
    "         \"MONDAY -> 'go-to-school' 'stay-for-tutoring' 'do-chores' 'play-videogames' [0.125]\",\n",
    "         \"MONDAY -> 'go-to-school' 'stay-for-tutoring' 'go-running' 'play-videogames' [0.250]\",\n",
    "         \"TUESDAY -> 'go-to-work' 'go-to-school' 'go-to-store' 'do-homework' [0.125]\",\n",
    "         \"TUESDAY -> 'go-to-work' 'go-to-school' 'do-homework' 'play-videogames' [0.125]\",\n",
    "         \"TUESDAY -> 'go-to-school' 'stay-for-tutoring' 'go-to-store' 'do-homework' [0.125]\",\n",
    "         \"TUESDAY -> 'go-to-school' 'stay-for-tutoring' 'do-homework' 'play-videogames' [0.125]\",\n",
    "         \"TUESDAY -> 'go-to-work' 'go-to-school' 'go-to-store' 'play-videogames' [0.125]\",\n",
    "         \"TUESDAY -> 'go-to-work' 'go-to-school' 'do-chores' 'play-videogames' [0.0625]\",\n",
    "         \"TUESDAY -> 'go-to-school' 'stay-for-tutoring' 'go-to-store' 'play-videogames' [0.125]\",\n",
    "         \"TUESDAY -> 'go-to-school' 'stay-for-tutoring' 'do-chores' 'play-videogames' [0.0625]\",\n",
    "         \"TUESDAY -> 'go-to-work' 'go-to-school' 'go-running' 'play-videogames' [0.0625]\",\n",
    "         \"TUESDAY -> 'go-to-school' 'stay-for-tutoring' 'go-running' 'play-videogames' [0.0625]\",\n",
    "         \"WEDNESDAY -> 'go-to-school' 'do-homework' 'go-to-work' 'do-chores' [0.250]\",\n",
    "         \"WEDNESDAY -> 'go-to-school' 'do-homework' 'do-chores' 'play-videogames' [0.125]\",\n",
    "         \"WEDNESDAY -> 'go-to-school' 'do-homework' 'go-running' 'do-chores' [0.125]\",\n",
    "         \"WEDNESDAY -> 'go-to-school' 'stay-for-tutoring' 'go-to-work' 'do-chores' [0.125]\",\n",
    "         \"WEDNESDAY -> 'go-to-school' 'stay-for-tutoring' 'play-videogames' 'do-chores' [0.125]\",\n",
    "         \"WEDNESDAY -> 'go-to-school' 'go-to-work' 'go-running' 'do-chores' [0.125]\",\n",
    "         \"WEDNESDAY -> 'go-to-school' 'stay-for-tutoring' 'go-running' 'do-chores' [0.125]\",\n",
    "        ]"
   ]
  },
  {
   "cell_type": "code",
   "execution_count": 3,
   "metadata": {},
   "outputs": [
    {
     "name": "stdout",
     "output_type": "stream",
     "text": [
      "[P -> WEDNESDAY [0.2]]\n"
     ]
    }
   ],
   "source": [
    "test = PCFG.fromstring(prods)"
   ]
  },
  {
   "cell_type": "code",
   "execution_count": 4,
   "metadata": {},
   "outputs": [],
   "source": [
    "def sample_from_grammar(grammar, start=None, depth=None, n=None):\n",
    "    \"\"\"\n",
    "    This is based off of the generate function in nltk for CFG. This uses ancestral\n",
    "    sampling to generate one possible plan/sentence rather than all possible \n",
    "    plans/sentences. \n",
    "    see http://www.nltk.org/_modules/nltk/parse/generate.html#generate\n",
    "\n",
    "    :param grammar: The Grammar used to generate sentences.\n",
    "    :param start: The Nonterminal from which to start generate sentences.\n",
    "    :param depth: The maximal depth of the generated tree.\n",
    "    :param n: The maximum number of sentences to return.\n",
    "    :return: An iterator of lists of terminal tokens.\n",
    "    \"\"\"\n",
    "    if not start:\n",
    "        start = grammar.start()\n",
    "    if depth is None:\n",
    "        depth = sys.maxsize\n",
    "\n",
    "    iter = _sample_all(grammar, [start], depth)\n",
    "\n",
    "    if n:\n",
    "        iter = itertools.islice(iter, n)\n",
    "\n",
    "    return iter\n",
    "\n",
    "def _sample_all(grammar, items, depth):\n",
    "    if items:\n",
    "        try:\n",
    "            for frag1 in _sample_one(grammar, items[0], depth):\n",
    "                for frag2 in _sample_all(grammar, items[1:], depth):\n",
    "                    yield frag1 + frag2\n",
    "        except RuntimeError as _error:\n",
    "            if _error.message == \"maximum recursion depth exceeded\":\n",
    "                # Helpful error message while still showing the recursion stack.\n",
    "                raise RuntimeError(\n",
    "                    \"The grammar has rule(s) that yield infinite recursion!!\"\n",
    "                )\n",
    "            else:\n",
    "                raise\n",
    "    else:\n",
    "        yield []\n",
    "\n",
    "\n",
    "def _sample_one(grammar, item, depth):\n",
    "    if depth > 0:\n",
    "        if isinstance(item, Nonterminal):\n",
    "            prod = random.choices([x for x in grammar.productions(lhs=item)],[x.prob() for x in test.productions(lhs=item)])[0]\n",
    "            for frag in _sample_all(grammar, prod.rhs(), depth - 1):\n",
    "                yield frag\n",
    "        else:\n",
    "            yield [item]\n"
   ]
  },
  {
   "cell_type": "code",
   "execution_count": 15,
   "metadata": {},
   "outputs": [
    {
     "name": "stdout",
     "output_type": "stream",
     "text": [
      "['go-to-school', 'go-to-work', 'do-chores', 'do-homework']\n"
     ]
    }
   ],
   "source": [
    "for s in sample_from_grammar(test,Nonterminal(\"MONDAY\")):\n",
    "    print(s)"
   ]
  },
  {
   "cell_type": "code",
   "execution_count": 6,
   "metadata": {},
   "outputs": [
    {
     "name": "stdout",
     "output_type": "stream",
     "text": [
      "MONDAY -> 'go-to-school' 'go-to-work' 'do-chores' 'do-homework' [0.5]\n"
     ]
    }
   ],
   "source": [
    "M = Nonterminal(\"MONDAY\")\n",
    "l = [\"go-to-school\",\"go-to-work\",\"do-chores\",\"do-homework\"]\n",
    "prod = pp(M,l, prob=0.5)\n",
    "\n",
    "print(prod)"
   ]
  },
  {
   "cell_type": "code",
   "execution_count": 7,
   "metadata": {},
   "outputs": [],
   "source": [
    "current_state = {'raining': 1, 'work-today': 1, 'need-groceries': 0,\n",
    "                'have-homework': 1, 'found-movie': 0, 'went-to-school': 0,\n",
    "                'went-to-work': 0, 'did-chores': 0, 'did-homework': 0,\n",
    "                'stayed-for-tutoring': 0, 'ran': 0, 'played-videogames': 0,\n",
    "                'went-to-store': 0, 'watched-movie': 0}\n"
   ]
  },
  {
   "cell_type": "code",
   "execution_count": null,
   "metadata": {},
   "outputs": [],
   "source": [
    "class PSDG(PCFG):\n",
    "    def __init__(self, start, productions, calculate_leftcorners=True):\n",
    "        PCFG.__init__(self, start, productions, calculate_leftcorners)\n",
    "    \n",
    "    def update_prods(state):\n",
    "        for i in self._productions:\n",
    "            i.update_prob(state)"
   ]
  },
  {
   "cell_type": "code",
   "execution_count": 8,
   "metadata": {},
   "outputs": [],
   "source": [
    " class PSDProduction(Production,ProbabilisticMixIn):\n",
    "    \"\"\"\n",
    "    Edited version of nltk's ProbablisticProduction class\n",
    "    See http://www.nltk.org/_modules/nltk/grammar.html#ProbabilisticProduction\n",
    "    \n",
    "    This was edited to contain a precondition function and to be able to update\n",
    "    the probability of production given a new state. The probability passed into\n",
    "    the constructor represents the probability of the production if the passed\n",
    "    state satisfies the preconditions.\n",
    "    \n",
    "\n",
    "    :see also: ``Production``\n",
    "    \"\"\"\n",
    "\n",
    "    def __init__(self, lhs, rhs,current_s,precond, t_prob = 1.0):\n",
    "        self.precond = precond\n",
    "        self.t_prob = t_prob\n",
    "        if self.precond(current_s):\n",
    "            p = t_prob\n",
    "        else:\n",
    "            p = 1 - t_prob\n",
    "            \n",
    "        ProbabilisticMixIn.__init__(self, prob = p)\n",
    "        Production.__init__(self, lhs, rhs)\n",
    "\n",
    "    def __str__(self):\n",
    "        return super().__str__() + (\n",
    "            \" [1.0]\" if (self.prob() == 1.0) else \" [%g]\" % self.prob()\n",
    "        )\n",
    "\n",
    "    def __eq__(self, other):\n",
    "        return (\n",
    "            type(self) == type(other)\n",
    "            and self._lhs == other._lhs\n",
    "            and self._rhs == other._rhs\n",
    "            and self.prob() == other.prob()\n",
    "        )\n",
    "\n",
    "    def __ne__(self, other):\n",
    "        return not self == other\n",
    "\n",
    "    def __hash__(self):\n",
    "        return hash((self._lhs, self._rhs, self.prob()))\n",
    "    \n",
    "    def update_prob(state):\n",
    "        if self.precond(state):\n",
    "            p = t_prob\n",
    "        else:\n",
    "            p = 1 - t_prob\n",
    "        self.set_prob(p)"
   ]
  },
  {
   "cell_type": "code",
   "execution_count": 9,
   "metadata": {},
   "outputs": [],
   "source": [
    "def work_homework_raining(state):\n",
    "    if state['raining']:\n",
    "        if state['have-homework']:\n",
    "            if state['work-today']:\n",
    "                return True\n",
    "    return False"
   ]
  },
  {
   "cell_type": "code",
   "execution_count": 10,
   "metadata": {},
   "outputs": [
    {
     "name": "stdout",
     "output_type": "stream",
     "text": [
      "MONDAY -> 'go-to-school' 'go-to-work' 'do-chores' 'do-homework' [1.0]\n"
     ]
    }
   ],
   "source": [
    "M = Nonterminal(\"MONDAY\")\n",
    "l = [\"go-to-school\",\"go-to-work\",\"do-chores\",\"do-homework\"]\n",
    "prod = PSDProduction(M,l,current_state,work_homework_raining)\n",
    "\n",
    "print(prod)"
   ]
  }
 ],
 "metadata": {
  "kernelspec": {
   "display_name": "Python 3",
   "language": "python",
   "name": "python3"
  },
  "language_info": {
   "codemirror_mode": {
    "name": "ipython",
    "version": 3
   },
   "file_extension": ".py",
   "mimetype": "text/x-python",
   "name": "python",
   "nbconvert_exporter": "python",
   "pygments_lexer": "ipython3",
   "version": "3.8.1"
  }
 },
 "nbformat": 4,
 "nbformat_minor": 4
}
