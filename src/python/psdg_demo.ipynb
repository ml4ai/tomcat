{
 "cells": [
  {
   "cell_type": "code",
   "execution_count": 1,
   "metadata": {},
   "outputs": [],
   "source": [
    "from PSDG_Domain import PSDG_Domain\n",
    "from simple_schedule_domain import actions, methods\n",
    "from pprint import pprint"
   ]
  },
  {
   "cell_type": "code",
   "execution_count": 2,
   "metadata": {},
   "outputs": [],
   "source": [
    "simple_schedule = PSDG_Domain(methods,actions)"
   ]
  },
  {
   "cell_type": "code",
   "execution_count": 3,
   "metadata": {},
   "outputs": [],
   "source": [
    "current_state = {'raining': 1, 'work-today': 1, 'need-groceries': 0,\n",
    "                'have-homework': 1, 'found-movie': 0, 'went-to-school': 0,\n",
    "                'went-to-work': 0, 'did-chores': 0, 'did-homework': 0,\n",
    "                'stayed-for-tutoring': 0, 'ran': 0, 'played-videogames': 0,\n",
    "                'went-to-store': 0, 'watched-movie': 0}\n"
   ]
  },
  {
   "cell_type": "code",
   "execution_count": 4,
   "metadata": {},
   "outputs": [],
   "source": [
    "simple_schedule.initialize_planning(current_state)"
   ]
  },
  {
   "cell_type": "code",
   "execution_count": 5,
   "metadata": {},
   "outputs": [],
   "source": [
    "plans = simple_schedule.sample_plans(output_options = None,start = 'MONDAY')"
   ]
  },
  {
   "cell_type": "code",
   "execution_count": 6,
   "metadata": {},
   "outputs": [
    {
     "name": "stdout",
     "output_type": "stream",
     "text": [
      "[[{'did-chores': 0,\n",
      "   'did-homework': 0,\n",
      "   'found-movie': 0,\n",
      "   'have-homework': 1,\n",
      "   'need-groceries': 0,\n",
      "   'played-videogames': 0,\n",
      "   'raining': 1,\n",
      "   'ran': 0,\n",
      "   'stayed-for-tutoring': 0,\n",
      "   'watched-movie': 0,\n",
      "   'went-to-school': 0,\n",
      "   'went-to-store': 0,\n",
      "   'went-to-work': 0,\n",
      "   'work-today': 1},\n",
      "  '!go_to_school',\n",
      "  {'did-chores': 0,\n",
      "   'did-homework': 0,\n",
      "   'found-movie': 0,\n",
      "   'have-homework': 1,\n",
      "   'need-groceries': 0,\n",
      "   'played-videogames': 0,\n",
      "   'raining': 1,\n",
      "   'ran': 0,\n",
      "   'stayed-for-tutoring': 0,\n",
      "   'watched-movie': 0,\n",
      "   'went-to-school': 1,\n",
      "   'went-to-store': 0,\n",
      "   'went-to-work': 0,\n",
      "   'work-today': 1},\n",
      "  '!go_to_work',\n",
      "  {'did-chores': 0,\n",
      "   'did-homework': 0,\n",
      "   'found-movie': 0,\n",
      "   'have-homework': 1,\n",
      "   'need-groceries': 0,\n",
      "   'played-videogames': 0,\n",
      "   'raining': 1,\n",
      "   'ran': 0,\n",
      "   'stayed-for-tutoring': 0,\n",
      "   'watched-movie': 0,\n",
      "   'went-to-school': 1,\n",
      "   'went-to-store': 0,\n",
      "   'went-to-work': 1,\n",
      "   'work-today': 1},\n",
      "  '!do_chores',\n",
      "  {'did-chores': 1,\n",
      "   'did-homework': 0,\n",
      "   'found-movie': 0,\n",
      "   'have-homework': 1,\n",
      "   'need-groceries': 0,\n",
      "   'played-videogames': 0,\n",
      "   'raining': 1,\n",
      "   'ran': 0,\n",
      "   'stayed-for-tutoring': 0,\n",
      "   'watched-movie': 0,\n",
      "   'went-to-school': 1,\n",
      "   'went-to-store': 0,\n",
      "   'went-to-work': 1,\n",
      "   'work-today': 1},\n",
      "  '!do_homework',\n",
      "  {'did-chores': 1,\n",
      "   'did-homework': 1,\n",
      "   'found-movie': 0,\n",
      "   'have-homework': 0,\n",
      "   'need-groceries': 0,\n",
      "   'played-videogames': 0,\n",
      "   'raining': 1,\n",
      "   'ran': 0,\n",
      "   'stayed-for-tutoring': 0,\n",
      "   'watched-movie': 0,\n",
      "   'went-to-school': 1,\n",
      "   'went-to-store': 0,\n",
      "   'went-to-work': 1,\n",
      "   'work-today': 1}]]\n"
     ]
    }
   ],
   "source": [
    "pprint(plans)"
   ]
  },
  {
   "cell_type": "code",
   "execution_count": null,
   "metadata": {},
   "outputs": [],
   "source": []
  }
 ],
 "metadata": {
  "kernelspec": {
   "display_name": "Python 3",
   "language": "python",
   "name": "python3"
  },
  "language_info": {
   "codemirror_mode": {
    "name": "ipython",
    "version": 3
   },
   "file_extension": ".py",
   "mimetype": "text/x-python",
   "name": "python",
   "nbconvert_exporter": "python",
   "pygments_lexer": "ipython3",
   "version": "3.8.1"
  }
 },
 "nbformat": 4,
 "nbformat_minor": 4
}
